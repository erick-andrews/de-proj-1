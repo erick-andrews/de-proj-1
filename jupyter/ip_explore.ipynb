{
 "cells": [
  {
   "cell_type": "code",
   "execution_count": null,
   "id": "c01b83cb-e011-48f6-9cc7-3128162fa171",
   "metadata": {},
   "outputs": [],
   "source": [
    "import pandas as pd\n",
    "from dotenv import load_dotenv\n",
    "load_dotenv(verbose = True)\n",
    "import numpy as np\n",
    "pd.set_option('display.max_rows', 100)\n",
    "pd.set_option('display.max_columns', 100)"
   ]
  },
  {
   "cell_type": "code",
   "execution_count": null,
   "id": "8fcb4892-ba95-413a-9a2b-8ba348af6cfb",
   "metadata": {},
   "outputs": [],
   "source": [
    "exp = pd.read_csv(\"~/projects/de-proj-1/op-db/airbnb.csv\")"
   ]
  },
  {
   "cell_type": "code",
   "execution_count": null,
   "id": "37fd4acf-33cf-435c-b784-dc04a80eae86",
   "metadata": {},
   "outputs": [],
   "source": [
    "print(pd.unique(exp['City']))\n",
    "print(len(pd.unique(exp['Host since'])))\n",
    "print(pd.unique(exp['Date of scraping']))"
   ]
  },
  {
   "cell_type": "code",
   "execution_count": null,
   "id": "afcb2c6f-b575-4435-89fd-7aa589866ac1",
   "metadata": {
    "scrolled": true
   },
   "outputs": [],
   "source": [
    "exp.head(100)"
   ]
  },
  {
   "cell_type": "code",
   "execution_count": null,
   "id": "a9d85f7a-cde3-4ec0-af28-6542e31103aa",
   "metadata": {},
   "outputs": [],
   "source": [
    "len(exp)"
   ]
  },
  {
   "cell_type": "code",
   "execution_count": null,
   "id": "8ba7aabf-4ef3-46a5-b8a3-a64d060fdcb2",
   "metadata": {},
   "outputs": [],
   "source": [
    "print(len(pd.unique(exp['Listings id'])))"
   ]
  },
  {
   "cell_type": "code",
   "execution_count": null,
   "id": "aab1ae6a-e6e6-4e85-9e78-6daf66c86fd0",
   "metadata": {},
   "outputs": [],
   "source": [
    "exp[exp[\"City\"] == \"Firenze\"]"
   ]
  },
  {
   "cell_type": "code",
   "execution_count": null,
   "id": "4b38b924-5c16-45ce-980f-1ab5b4eb52ab",
   "metadata": {},
   "outputs": [],
   "source": [
    "repeated_observations = exp[exp['Listings id'].duplicated(keep=False)]"
   ]
  },
  {
   "cell_type": "code",
   "execution_count": null,
   "id": "43a2e3cf-d1c0-4b5d-a2d2-ce685f5c3d72",
   "metadata": {},
   "outputs": [],
   "source": [
    "repeated_observations"
   ]
  },
  {
   "cell_type": "code",
   "execution_count": null,
   "id": "32ccfbef-badf-4225-a149-eaf42a1f97a6",
   "metadata": {},
   "outputs": [],
   "source": [
    "repeated_observations[repeated_observations['Listings id'] == 222527]"
   ]
  },
  {
   "cell_type": "code",
   "execution_count": null,
   "id": "d718d3f7-0011-4831-bbbd-1409e68c2904",
   "metadata": {},
   "outputs": [],
   "source": [
    "from shapely.geometry import Point\n",
    "\n",
    "def to_wkt(coord):\n",
    "    lat, lon = map(float, coord.split(','))\n",
    "    return Point(lon, lat).wkt  # Note: WKT format is (lon lat)\n",
    "\n",
    "exp['Coordinates'] = exp['Coordinates'].apply(to_wkt)"
   ]
  },
  {
   "cell_type": "code",
   "execution_count": null,
   "id": "7026b63b-2359-4a6c-b970-ba7a5975e7b0",
   "metadata": {},
   "outputs": [],
   "source": [
    "column_mapping = {\n",
    "    'Listings id': 'listing_id',\n",
    "    'Last year reviews': 'last_year_reviews',\n",
    "    'Host since': 'host_since',\n",
    "    'Host is superhost': 'host_is_superhost',\n",
    "    'Host number of listings': 'host_number_of_listings',\n",
    "    'Neighbourhood': 'neighbourhood',\n",
    "    'Beds number': 'beds_number',\n",
    "    'Bedrooms number': 'bedrooms_number',\n",
    "    'Property type': 'property_type',\n",
    "    'Maximum allowed guests': 'max_allowed_guests',\n",
    "    'Price': 'price',\n",
    "    'Total reviews': 'total_reviews',\n",
    "    'Rating score': 'rating_score',\n",
    "    'Accuracy score': 'accuracy_score',\n",
    "    'Cleanliness score': 'cleanliness_score',\n",
    "    'Checkin score': 'checkin_score',\n",
    "    'Communication score': 'communication_score',\n",
    "    'Location score': 'location_score',\n",
    "    'Value for money score': 'value_for_money_score',\n",
    "    'Reviews per month': 'reviews_per_month',\n",
    "    'City': 'city',\n",
    "    'Season': 'season',\n",
    "    'Bathrooms number': 'bathrooms_number',\n",
    "    'Bathrooms type': 'bathrooms_type',\n",
    "    'Coordinates': 'coordinates',\n",
    "    'Date of scraping': 'date_of_scraping'\n",
    "}\n",
    "\n",
    "# Rename the columns\n",
    "exp = exp.rename(columns=column_mapping)\n",
    "\n",
    "# Reorder the columns to match the staging table\n",
    "staging_columns = [\n",
    "    'listing_id',\n",
    "    'last_year_reviews',\n",
    "    'host_since',\n",
    "    'host_is_superhost',\n",
    "    'host_number_of_listings',\n",
    "    'neighbourhood',\n",
    "    'beds_number',\n",
    "    'bedrooms_number',\n",
    "    'property_type',\n",
    "    'max_allowed_guests',\n",
    "    'price',\n",
    "    'total_reviews',\n",
    "    'rating_score',\n",
    "    'accuracy_score',\n",
    "    'cleanliness_score',\n",
    "    'checkin_score',\n",
    "    'communication_score',\n",
    "    'location_score',\n",
    "    'value_for_money_score',\n",
    "    'reviews_per_month',\n",
    "    'city',\n",
    "    'season',\n",
    "    'bathrooms_number',\n",
    "    'bathrooms_type',\n",
    "    'coordinates',\n",
    "    'date_of_scraping'\n",
    "]\n",
    "\n",
    "# Select and reorder the columns\n",
    "exp = exp[staging_columns]"
   ]
  },
  {
   "cell_type": "code",
   "execution_count": null,
   "id": "f117c588-69f8-4a2a-991f-b9ca9b7d1102",
   "metadata": {},
   "outputs": [],
   "source": [
    "exp['host_is_superhost'] = exp['host_is_superhost'].map({'Superhost': True, 'Host': False})\n",
    "exp"
   ]
  },
  {
   "cell_type": "code",
   "execution_count": null,
   "id": "5ebaa96b-332f-4eff-a991-bb1727ec1750",
   "metadata": {},
   "outputs": [],
   "source": [
    "exp.to_csv(\"/home/eandrews/projects/de-proj-1/op-db/airbnb_clean.csv\", index=False)"
   ]
  },
  {
   "cell_type": "code",
   "execution_count": null,
   "id": "1c8dea52-39fb-4fbc-99ee-e9a3608de0a7",
   "metadata": {},
   "outputs": [],
   "source": [
    "len(exp.columns)"
   ]
  },
  {
   "cell_type": "code",
   "execution_count": null,
   "id": "bdaecc0c-db01-409a-8150-11a711b94fdc",
   "metadata": {},
   "outputs": [],
   "source": [
    "import pandas as pd\n",
    "df = pd.read_csv('/home/eandrews/projects/de-proj-1/op-db/airbnb_clean.csv')\n",
    "df.to_parquet('/home/eandrews/projects/de-proj-1/op-db/airbnb_clean.parquet')"
   ]
  },
  {
   "cell_type": "markdown",
   "id": "1a5bfc15-7fe6-406a-8059-5d447ee3e888",
   "metadata": {},
   "source": [
    "# Working with IP Data"
   ]
  },
  {
   "cell_type": "code",
   "execution_count": null,
   "id": "4f58579c-66b8-47bc-913e-834b2d51a33b",
   "metadata": {
    "scrolled": true
   },
   "outputs": [],
   "source": [
    "# import os\n",
    "# # List all environment variables\n",
    "# for key, value in os.environ.items():\n",
    "#     print(f\"{key}: {value}\")\n",
    "\n",
    "# # Alternatively, view a specific variable\n",
    "# print(os.environ.get('AWS_ACCESS_KEY_ID'))\n"
   ]
  },
  {
   "cell_type": "markdown",
   "id": "5a6c085b-daa2-4fbb-a824-91afd0b55fd4",
   "metadata": {},
   "source": [
    "## Loading in Parquet"
   ]
  },
  {
   "cell_type": "code",
   "execution_count": 1,
   "id": "b961d62d-40e2-4bd6-a470-aa5b36ac11a5",
   "metadata": {},
   "outputs": [],
   "source": [
    "import pandas as pd\n",
    "from dotenv import load_dotenv\n",
    "load_dotenv(verbose = True)\n",
    "import numpy as np\n",
    "pd.set_option('display.max_rows', 100)\n",
    "pd.set_option('display.max_columns', 100)"
   ]
  },
  {
   "cell_type": "code",
   "execution_count": null,
   "id": "6ce8284e-e588-4abe-9920-989fd0cc3970",
   "metadata": {},
   "outputs": [],
   "source": [
    "from pyiceberg.catalog import Catalog, load_catalog\n",
    "from pyiceberg.catalog.hadoop import HadoopCatalog"
   ]
  },
  {
   "cell_type": "code",
   "execution_count": null,
   "id": "fb0e774a-e577-45c1-88b5-af3ed952a71d",
   "metadata": {},
   "outputs": [],
   "source": [
    "# Define S3 URI for the catalog root\n",
    "catalog_name = \"central_catalog\"\n",
    "s3_uri = \"s3://ip-explorer/metadata/\"\n",
    "\n",
    "# Create the catalog\n",
    "catalog = HadoopCatalog(name=catalog_name, warehouse=s3_uri)"
   ]
  },
  {
   "cell_type": "code",
   "execution_count": 2,
   "id": "f9949e5a-b1bc-41a2-bd43-519518fcb2f3",
   "metadata": {},
   "outputs": [],
   "source": [
    "df = pd.read_parquet(\"/var/tmp/outfiles/cleaned_ips.parquet\")"
   ]
  },
  {
   "cell_type": "code",
   "execution_count": 4,
   "id": "91f7f690-6b06-42d0-8225-4cb3e7b670a1",
   "metadata": {},
   "outputs": [
    {
     "data": {
      "text/plain": [
       "1100398"
      ]
     },
     "execution_count": 4,
     "metadata": {},
     "output_type": "execute_result"
    }
   ],
   "source": [
    "len(df)"
   ]
  },
  {
   "cell_type": "code",
   "execution_count": 7,
   "id": "16970d9a-11b8-41bf-ac06-ebd49abf231b",
   "metadata": {},
   "outputs": [
    {
     "data": {
      "text/plain": [
       "1100398"
      ]
     },
     "execution_count": 7,
     "metadata": {},
     "output_type": "execute_result"
    }
   ],
   "source": [
    "len(df.drop_duplicates())"
   ]
  },
  {
   "cell_type": "code",
   "execution_count": null,
   "id": "7a78241a-8128-4c11-b827-faa341c3e797",
   "metadata": {},
   "outputs": [],
   "source": []
  }
 ],
 "metadata": {
  "kernelspec": {
   "display_name": "de-proj-1",
   "language": "python",
   "name": "de-proj-1"
  },
  "language_info": {
   "codemirror_mode": {
    "name": "ipython",
    "version": 3
   },
   "file_extension": ".py",
   "mimetype": "text/x-python",
   "name": "python",
   "nbconvert_exporter": "python",
   "pygments_lexer": "ipython3",
   "version": "3.10.12"
  }
 },
 "nbformat": 4,
 "nbformat_minor": 5
}
